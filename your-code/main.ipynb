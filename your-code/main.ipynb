{
 "cells": [
  {
   "cell_type": "markdown",
   "metadata": {},
   "source": [
    "# Before your start:\n",
    "- Read the README.md file\n",
    "- Comment as much as you can and use the resources in the README.md file\n",
    "- Happy learning!"
   ]
  },
  {
   "cell_type": "code",
   "execution_count": 36,
   "metadata": {},
   "outputs": [],
   "source": [
    "# Import reduce from functools, numpy and pandas\n",
    "from functools import reduce\n",
    "import numpy\n",
    "import pandas"
   ]
  },
  {
   "cell_type": "markdown",
   "metadata": {},
   "source": [
    "# Challenge 1 - Mapping\n",
    "\n",
    "#### We will use the map function to clean up words in a book.\n",
    "\n",
    "In the following cell, we will read a text file containing the book The Prophet by Khalil Gibran."
   ]
  },
  {
   "cell_type": "code",
   "execution_count": 37,
   "metadata": {},
   "outputs": [],
   "source": [
    "# Run this code:\n",
    "\n",
    "location = '../data/58585-0.txt'\n",
    "with open(location, 'r', encoding=\"utf8\") as f:\n",
    "    prophet = f.read().split(' ')"
   ]
  },
  {
   "cell_type": "code",
   "execution_count": 38,
   "metadata": {},
   "outputs": [
    {
     "data": {
      "text/plain": [
       "13637"
      ]
     },
     "execution_count": 38,
     "metadata": {},
     "output_type": "execute_result"
    }
   ],
   "source": [
    "len(prophet)"
   ]
  },
  {
   "cell_type": "markdown",
   "metadata": {},
   "source": [
    "#### Let's remove the first 568 words since they contain information about the book but are not part of the book itself. \n",
    "\n",
    "Do this by removing from `prophet` elements 0 through 567 of the list (you can also do this by keeping elements 568 through the last element)."
   ]
  },
  {
   "cell_type": "code",
   "execution_count": 39,
   "metadata": {},
   "outputs": [
    {
     "name": "stdout",
     "output_type": "stream",
     "text": [
      "13069\n"
     ]
    }
   ],
   "source": [
    "shortened_prophet = prophet\n",
    "\n",
    "for i in range(0, 568):\n",
    "    shortened_prophet.pop(i)\n",
    "\n",
    "print(len(shortened_prophet))"
   ]
  },
  {
   "cell_type": "markdown",
   "metadata": {},
   "source": [
    "If you look through the words, you will find that many words have a reference attached to them. For example, let's look at words 1 through 10."
   ]
  },
  {
   "cell_type": "code",
   "execution_count": 40,
   "metadata": {},
   "outputs": [
    {
     "name": "stdout",
     "output_type": "stream",
     "text": [
      "EBook\n",
      "The\n",
      "by\n",
      "Gibran\n",
      "\n",
      "This\n",
      "is\n",
      "the\n",
      "of\n",
      "anywhere\n",
      "the\n",
      "States\n"
     ]
    }
   ],
   "source": [
    "for i in range(1, 11):\n",
    "    print(shortened_prophet[i])"
   ]
  },
  {
   "cell_type": "markdown",
   "metadata": {},
   "source": [
    "#### The next step is to create a function that will remove references. \n",
    "\n",
    "We will do this by splitting the string on the `{` character and keeping only the part before this character. Write your function below."
   ]
  },
  {
   "cell_type": "code",
   "execution_count": 43,
   "metadata": {},
   "outputs": [],
   "source": [
    "def reference(x: str):\n",
    "    '''\n",
    "    Input: A string\n",
    "    Output: The string with references removed\n",
    "    \n",
    "    Example:\n",
    "    Input: 'the{7}'\n",
    "    Output: 'the'\n",
    "    '''\n",
    "    if x.__contains__(\"{\"):\n",
    "        return x.split(\"{\")[0] if '{' in x else x\n",
    "    "
   ]
  },
  {
   "cell_type": "markdown",
   "metadata": {},
   "source": [
    "Now that we have our function, use the `map()` function to apply this function to our book, The Prophet. Return the resulting list to a new list called `prophet_reference`."
   ]
  },
  {
   "cell_type": "code",
   "execution_count": 77,
   "metadata": {},
   "outputs": [
    {
     "name": "stdout",
     "output_type": "stream",
     "text": [
      "['the', 'and\\n', 'spirit,\\n', 'I\\n', 'and\\n', '*****\\n\\n', '*****\\n\\n', '*****\\n\\n', 'the\\n', 'for\\n', 'rend\\n', '*****\\n\\n', 'consumed.\\n', 'wine,\\n', 'winepress.\\n\\n*****\\n*****\\n\\n', 'dream,\\n', 'bind\\n', '*****\\n\\n', 'in\\n', '*****\\n\\n', 'you\\n', 'that\\n', 'that\\n', '*****\\n\\n', '*****\\n\\n', '*****\\n\\n', 'serpent.\\n', 'is\\n', 'the\\n', '*****\\n\\n', 'what\\n', '*****\\n\\n', 'your\\n', 'would\\n', '*****\\n\\n', 'the\\n', '*****\\n\\n', '*****\\n\\n', 'your\\n', '*****\\n\\n', 'it.\\n', '*****\\n\\n', '*****\\n\\n', 'and\\n', '*****\\n\\n', 'space.\\n', '*****\\n\\n', 'to\\n', '*****\\n\\n', 'very\\n', 'mountains.\\n', '*****\\n\\n', '*****\\n\\n', 'veil.\\n', '*****\\n\\n', '*****\\n\\n', 'dance.\\n', 'emptiness;\\n', 'the\\n', 'offended.\\n', 'days.\\n', '0125]\\n\\n', 'doubter;\\n', 'crystal.\\n', 'after\\n']\n"
     ]
    }
   ],
   "source": [
    "prophet_no_filter = list(map(reference, shortened_prophet))\n",
    "filtered = [x for x in prophet_no_filter if x is not None]\n",
    "prophet_reference = [x for x in filtered if x != \"\"]\n",
    "print(prophet_reference)"
   ]
  },
  {
   "cell_type": "markdown",
   "metadata": {},
   "source": [
    "Another thing you may have noticed is that some words contain a line break. Let's write a function to split those words. Our function will return the string split on the character `\\n`. Write your function in the cell below."
   ]
  },
  {
   "cell_type": "code",
   "execution_count": 79,
   "metadata": {},
   "outputs": [],
   "source": [
    "def line_break(x: str):\n",
    "    '''\n",
    "    Input: A string\n",
    "    Output: A list of strings split on the line break (\\n) character\n",
    "        \n",
    "    Example:\n",
    "    Input: 'the\\nbeloved'\n",
    "    Output: ['the', 'beloved']\n",
    "    '''\n",
    "    if x.__contains__(\"\\n\"):\n",
    "        return x.split(\"\\n\") if \"\\n\" in x else [x]"
   ]
  },
  {
   "cell_type": "markdown",
   "metadata": {},
   "source": [
    "Apply the `line_break` function to the `prophet_reference` list. Name the new list `prophet_line`."
   ]
  },
  {
   "cell_type": "code",
   "execution_count": null,
   "metadata": {
    "scrolled": true
   },
   "outputs": [
    {
     "name": "stdout",
     "output_type": "stream",
     "text": [
      "[None, ['and', ''], ['spirit,', ''], ['I', ''], ['and', ''], ['*****', '', ''], ['*****', '', ''], ['*****', '', ''], ['the', ''], ['for', ''], ['rend', ''], ['*****', '', ''], ['consumed.', ''], ['wine,', ''], ['winepress.', '', '*****', '*****', '', ''], ['dream,', ''], ['bind', ''], ['*****', '', ''], ['in', ''], ['*****', '', ''], ['you', ''], ['that', ''], ['that', ''], ['*****', '', ''], ['*****', '', ''], ['*****', '', ''], ['serpent.', ''], ['is', ''], ['the', ''], ['*****', '', ''], ['what', ''], ['*****', '', ''], ['your', ''], ['would', ''], ['*****', '', ''], ['the', ''], ['*****', '', ''], ['*****', '', ''], ['your', ''], ['*****', '', ''], ['it.', ''], ['*****', '', ''], ['*****', '', ''], ['and', ''], ['*****', '', ''], ['space.', ''], ['*****', '', ''], ['to', ''], ['*****', '', ''], ['very', ''], ['mountains.', ''], ['*****', '', ''], ['*****', '', ''], ['veil.', ''], ['*****', '', ''], ['*****', '', ''], ['dance.', ''], ['emptiness;', ''], ['the', ''], ['offended.', ''], ['days.', ''], ['0125]', '', ''], ['doubter;', ''], ['crystal.', ''], ['after', '']]\n"
     ]
    }
   ],
   "source": [
    "prophet_line = list(map(line_break, prophet_reference))\n",
    "print(prophet_line)"
   ]
  },
  {
   "cell_type": "markdown",
   "metadata": {},
   "source": [
    "If you look at the elements of `prophet_line`, you will see that the function returned lists and not strings. Our list is now a list of lists. Flatten the list using list comprehension. Assign this new list to `prophet_flat`."
   ]
  },
  {
   "cell_type": "code",
   "execution_count": null,
   "metadata": {},
   "outputs": [
    {
     "name": "stdout",
     "output_type": "stream",
     "text": [
      "['and', '', 'spirit,', '', 'I', '', 'and', '', '*****', '', '', '*****', '', '', '*****', '', '', 'the', '', 'for', '', 'rend', '', '*****', '', '', 'consumed.', '', 'wine,', '', 'winepress.', '', '*****', '*****', '', '', 'dream,', '', 'bind', '', '*****', '', '', 'in', '', '*****', '', '', 'you', '', 'that', '', 'that', '', '*****', '', '', '*****', '', '', '*****', '', '', 'serpent.', '', 'is', '', 'the', '', '*****', '', '', 'what', '', '*****', '', '', 'your', '', 'would', '', '*****', '', '', 'the', '', '*****', '', '', '*****', '', '', 'your', '', '*****', '', '', 'it.', '', '*****', '', '', '*****', '', '', 'and', '', '*****', '', '', 'space.', '', '*****', '', '', 'to', '', '*****', '', '', 'very', '', 'mountains.', '', '*****', '', '', '*****', '', '', 'veil.', '', '*****', '', '', '*****', '', '', 'dance.', '', 'emptiness;', '', 'the', '', 'offended.', '', 'days.', '', '0125]', '', '', 'doubter;', '', 'crystal.', '', 'after', '']\n"
     ]
    }
   ],
   "source": [
    "def filter_none(list: list):\n",
    "    filtered = []\n",
    "    for i in list:\n",
    "        if i != None:\n",
    "            filtered.append(i)\n",
    "    return filtered\n",
    "\n",
    "filtered_prophet_line = filter_none(prophet_line)\n",
    "prophet_flat = [word for sublist in filtered_prophet_line for word in sublist]\n",
    "print(prophet_flat)"
   ]
  },
  {
   "cell_type": "markdown",
   "metadata": {},
   "source": [
    "# Challenge 2 - Filtering\n",
    "\n",
    "When printing out a few words from the book, we see that there are words that we may not want to keep if we choose to analyze the corpus of text. Below is a list of words that we would like to get rid of. Create a function that will return false if it contains a word from the list of words specified and true otherwise."
   ]
  },
  {
   "cell_type": "code",
   "execution_count": null,
   "metadata": {},
   "outputs": [
    {
     "name": "stdout",
     "output_type": "stream",
     "text": [
      "True\n",
      "False\n"
     ]
    }
   ],
   "source": [
    "def word_filter(x: str):\n",
    "    '''\n",
    "    Input: A string\n",
    "    Output: True if the word is not in the specified list \n",
    "    and False if the word is in the list.\n",
    "        \n",
    "    Example:\n",
    "    word list = ['and', 'the']\n",
    "    Input: 'and'\n",
    "    Output: False\n",
    "    \n",
    "    Input: 'John'\n",
    "    Output: True\n",
    "    '''\n",
    "    \n",
    "    word_list = ['and', 'the', 'a', 'an']\n",
    "\n",
    "    if x in word_list:\n",
    "        return False\n",
    "    else:\n",
    "        return True\n",
    "\n",
    "print(word_filter(\"John\"))\n",
    "print(word_filter(\"a\"))"
   ]
  },
  {
   "cell_type": "markdown",
   "metadata": {},
   "source": [
    "Use the `filter()` function to filter out the words speficied in the `word_filter()` function. Store the filtered list in the variable `prophet_filter`."
   ]
  },
  {
   "cell_type": "code",
   "execution_count": 115,
   "metadata": {
    "scrolled": true
   },
   "outputs": [
    {
     "name": "stdout",
     "output_type": "stream",
     "text": [
      "['spirit,', 'I', '*****', '*****', '*****', 'for', 'rend', '*****', 'consumed.', 'wine,', 'winepress.', '*****', '*****', 'dream,', 'bind', '*****', 'in', '*****', 'you', 'that', 'that', '*****', '*****', '*****', 'serpent.', 'is', '*****', 'what', '*****', 'your', 'would', '*****', '*****', '*****', 'your', '*****', 'it.', '*****', '*****', '*****', 'space.', '*****', 'to', '*****', 'very', 'mountains.', '*****', '*****', 'veil.', '*****', '*****', 'dance.', 'emptiness;', 'offended.', 'days.', '0125]', 'doubter;', 'crystal.', 'after']\n"
     ]
    }
   ],
   "source": [
    "prophet_filter = list(filter(word_filter, prophet_flat))\n",
    "\n",
    "def filter_empty(list: list):\n",
    "    filtered = []\n",
    "    for word in list:\n",
    "        if len(word) > 0:\n",
    "            filtered.append(word)\n",
    "    return filtered\n",
    "\n",
    "print(filter_empty(prophet_filter))"
   ]
  },
  {
   "cell_type": "markdown",
   "metadata": {},
   "source": [
    "# Bonus Challenge\n",
    "\n",
    "Rewrite the `word_filter` function above to not be case sensitive."
   ]
  },
  {
   "cell_type": "code",
   "execution_count": 130,
   "metadata": {},
   "outputs": [
    {
     "data": {
      "text/plain": [
       "False"
      ]
     },
     "execution_count": 130,
     "metadata": {},
     "output_type": "execute_result"
    }
   ],
   "source": [
    "def word_filter_case(x: list):\n",
    "    word_list = ['and', 'the', 'a', 'an']\n",
    "    \n",
    "    if x.lower() in word_list:\n",
    "        return False\n",
    "    else:\n",
    "        return True\n",
    "    \n",
    "word_filter_case(\"a\")"
   ]
  },
  {
   "cell_type": "markdown",
   "metadata": {},
   "source": [
    "# Challenge 3 - Reducing\n",
    "\n",
    "#### Now that we have significantly cleaned up our text corpus, let's use the `reduce()` function to put the words back together into one long string separated by spaces. \n",
    "\n",
    "We will start by writing a function that takes two strings and concatenates them together with a space between the two strings."
   ]
  },
  {
   "cell_type": "code",
   "execution_count": 137,
   "metadata": {},
   "outputs": [
    {
     "name": "stdout",
     "output_type": "stream",
     "text": [
      "hello world\n"
     ]
    }
   ],
   "source": [
    "def concat_space(a, b):\n",
    "    '''\n",
    "    Input:Two strings\n",
    "    Output: A single string separated by a space\n",
    "        \n",
    "    Example:\n",
    "    Input: 'John', 'Smith'\n",
    "    Output: 'John Smith'\n",
    "    '''\n",
    "    return f\"{a} {b}\"\n",
    "    \n",
    "print(concat_space(\"hello\", \"world\"))"
   ]
  },
  {
   "cell_type": "code",
   "execution_count": null,
   "metadata": {
    "scrolled": true
   },
   "outputs": [],
   "source": [
    "# your code here"
   ]
  },
  {
   "cell_type": "markdown",
   "metadata": {},
   "source": [
    "Use the function above to reduce the text corpus in the list `prophet_filter` into a single string. Assign this new string to the variable `prophet_string`."
   ]
  },
  {
   "cell_type": "code",
   "execution_count": 139,
   "metadata": {},
   "outputs": [
    {
     "name": "stdout",
     "output_type": "stream",
     "text": [
      " spirit,  I   *****   *****   *****    for  rend  *****   consumed.  wine,  winepress.  ***** *****   dream,  bind  *****   in  *****   you  that  that  *****   *****   *****   serpent.  is   *****   what  *****   your  would  *****    *****   *****   your  *****   it.  *****   *****    *****   space.  *****   to  *****   very  mountains.  *****   *****   veil.  *****   *****   dance.  emptiness;   offended.  days.  0125]   doubter;  crystal.  after \n"
     ]
    }
   ],
   "source": [
    "prophet_string = reduce(concat_space, prophet_filter)\n",
    "print(prophet_string)"
   ]
  },
  {
   "cell_type": "code",
   "execution_count": null,
   "metadata": {},
   "outputs": [],
   "source": []
  }
 ],
 "metadata": {
  "kernelspec": {
   "display_name": "base",
   "language": "python",
   "name": "python3"
  },
  "language_info": {
   "codemirror_mode": {
    "name": "ipython",
    "version": 3
   },
   "file_extension": ".py",
   "mimetype": "text/x-python",
   "name": "python",
   "nbconvert_exporter": "python",
   "pygments_lexer": "ipython3",
   "version": "3.12.7"
  }
 },
 "nbformat": 4,
 "nbformat_minor": 2
}
